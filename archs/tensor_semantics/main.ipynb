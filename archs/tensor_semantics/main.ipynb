{
 "cells": [
  {
   "cell_type": "code",
   "execution_count": 1,
   "metadata": {},
   "outputs": [],
   "source": [
    "import torch\n",
    "import torch.nn as nn\n",
    "import torch.nn.functional as F"
   ]
  },
  {
   "cell_type": "code",
   "execution_count": 2,
   "metadata": {},
   "outputs": [],
   "source": [
    "class SemanticReasoner(nn.Module):\n",
    "    def __init__(self, embedding_dim, hidden_dim, num_concepts, reasoning_steps=3):\n",
    "        super().__init__()\n",
    "        self.embedding_dim = embedding_dim\n",
    "        self.hidden_dim = hidden_dim\n",
    "        self.reasoning_steps = reasoning_steps\n",
    "\n",
    "        # External semantic knowledge base: concepts in embedding space\n",
    "        self.knowledge_bank = nn.Parameter(torch.randn(num_concepts, embedding_dim))\n",
    "\n",
    "        # A learnable module that fuses original and matched knowledge into updates\n",
    "        self.update_layer = nn.Sequential(\n",
    "            nn.Linear(embedding_dim * 2, hidden_dim),\n",
    "            nn.ReLU(),\n",
    "            nn.Linear(hidden_dim, embedding_dim)\n",
    "        )\n",
    "\n",
    "    def forward(self, sentence_tensor):\n",
    "        \"\"\"\n",
    "        sentence_tensor: [batch_size, seq_len, embedding_dim]\n",
    "        \"\"\"\n",
    "        B, T, D = sentence_tensor.size()\n",
    "        x = sentence_tensor  # current sentence representation\n",
    "\n",
    "        for step in range(self.reasoning_steps):\n",
    "            # Flatten: [B*T, D]\n",
    "            flat_x = x.view(B * T, D)\n",
    "\n",
    "            # Normalize for cosine similarity\n",
    "            norm_x = F.normalize(flat_x, dim=1)\n",
    "            norm_kb = F.normalize(self.knowledge_bank, dim=1)\n",
    "\n",
    "            # Cosine similarity: [B*T, num_concepts]\n",
    "            sim_scores = torch.matmul(norm_x, norm_kb.t())\n",
    "\n",
    "            # Attention over the knowledge bank\n",
    "            attention_weights = F.softmax(sim_scores, dim=1)\n",
    "            matched_knowledge = torch.matmul(attention_weights, self.knowledge_bank)  # [B*T, D]\n",
    "\n",
    "            # Fuse input and matched concept\n",
    "            combined = torch.cat([flat_x, matched_knowledge], dim=1)  # [B*T, 2D]\n",
    "            updated_flat = self.update_layer(combined)  # [B*T, D]\n",
    "\n",
    "            # Reshape back to [B, T, D]\n",
    "            x = updated_flat.view(B, T, D)\n",
    "\n",
    "        return x  # Final refined tensor\n"
   ]
  },
  {
   "cell_type": "code",
   "execution_count": 3,
   "metadata": {},
   "outputs": [
    {
     "name": "stdout",
     "output_type": "stream",
     "text": [
      "Input shape:  torch.Size([2, 6, 64])\n",
      "Output shape: torch.Size([2, 6, 64])\n"
     ]
    }
   ],
   "source": [
    "if __name__ == \"__main__\":\n",
    "    # Hyperparameters\n",
    "    batch_size = 2\n",
    "    seq_len = 6\n",
    "    embedding_dim = 64\n",
    "    hidden_dim = 128\n",
    "    num_concepts = 100\n",
    "    reasoning_steps = 4\n",
    "\n",
    "    # Create model\n",
    "    model = SemanticReasoner(\n",
    "        embedding_dim=embedding_dim,\n",
    "        hidden_dim=hidden_dim,\n",
    "        num_concepts=num_concepts,\n",
    "        reasoning_steps=reasoning_steps\n",
    "    )\n",
    "\n",
    "    # Dummy sentence tensor: [batch_size, seq_len, embedding_dim]\n",
    "    sentence_tensor = torch.randn(batch_size, seq_len, embedding_dim)\n",
    "\n",
    "    # Forward pass\n",
    "    output_tensor = model(sentence_tensor)\n",
    "\n",
    "    print(\"Input shape: \", sentence_tensor.shape)\n",
    "    print(\"Output shape:\", output_tensor.shape)"
   ]
  }
 ],
 "metadata": {
  "kernelspec": {
   "display_name": "Python 3",
   "language": "python",
   "name": "python3"
  },
  "language_info": {
   "codemirror_mode": {
    "name": "ipython",
    "version": 3
   },
   "file_extension": ".py",
   "mimetype": "text/x-python",
   "name": "python",
   "nbconvert_exporter": "python",
   "pygments_lexer": "ipython3",
   "version": "3.12.5"
  }
 },
 "nbformat": 4,
 "nbformat_minor": 2
}
